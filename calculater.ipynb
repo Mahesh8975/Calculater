{
 "cells": [
  {
   "cell_type": "code",
   "execution_count": 2,
   "id": "cbb0930f",
   "metadata": {},
   "outputs": [],
   "source": [
    "#funtion to perform addition\n",
    "def addition(num1 , num2):\n",
    "    return num1+num2\n",
    "\n",
    "#function to perform subtraction\n",
    "def subtraction(num1 , num2):\n",
    "    return num1-num2\n",
    "\n",
    "#function to perform multiplication\n",
    "def multiply(num1 , num2):\n",
    "    return num1*num2\n",
    "\n",
    "#funtion to perform division\n",
    "def division(num1 ,num2):\n",
    "    return num1/num2"
   ]
  },
  {
   "cell_type": "code",
   "execution_count": 6,
   "id": "eadeaa26",
   "metadata": {},
   "outputs": [
    {
     "name": "stdout",
     "output_type": "stream",
     "text": [
      "Enter the 1st Number: 8\n",
      "Enter the 2st Number: 4\n",
      "Choose an Operation: \n",
      "1.Addition\n",
      "2.Substraction\n",
      "3.Multiplication\n",
      "4.Division\n",
      "Enter Your Choice(1-4): 4\n",
      "\n",
      "8.0 - 4.0 = 2.0\n"
     ]
    }
   ],
   "source": [
    "#taking input\n",
    "num1 = float(input(\"Enter the 1st Number: \"))\n",
    "num2 = float(input(\"Enter the 2st Number: \"))\n",
    "\n",
    "#Choosing an operation\n",
    "print(\"Choose an Operation: \")\n",
    "print(\"1.Addition\")\n",
    "print(\"2.Substraction\")\n",
    "print(\"3.Multiplication\")\n",
    "print(\"4.Division\")\n",
    "\n",
    "operation = int(input(\"Enter Your Choice(1-4): \"))\n",
    "\n",
    "# perform the calculation based on the chooden operation\n",
    "if operation == 1:\n",
    "    result = addition(num1 , num2)\n",
    "    operator = \"+\"\n",
    "elif operation == 2:\n",
    "    result = subtraction(num1 , num2)\n",
    "    operator = \"-\"\n",
    "elif operation == 3:\n",
    "    result = multiply(num1 , num2)\n",
    "    operation = \"*\"\n",
    "elif operation == 4:\n",
    "    result = division(num1 , num2) \n",
    "    operation = \"/\"\n",
    "else:\n",
    "    print(\"Invalid Input! \") \n",
    "\n",
    "#Display the result\n",
    "print(f\"\\n{num1} {operator} {num2} = {result}\")\n",
    "    \n",
    "    \n",
    "    \n",
    "    "
   ]
  },
  {
   "cell_type": "code",
   "execution_count": null,
   "id": "a0fc9863",
   "metadata": {},
   "outputs": [],
   "source": []
  },
  {
   "cell_type": "code",
   "execution_count": null,
   "id": "eb2f6fb7",
   "metadata": {},
   "outputs": [],
   "source": []
  },
  {
   "cell_type": "code",
   "execution_count": null,
   "id": "4cff1584",
   "metadata": {},
   "outputs": [],
   "source": []
  }
 ],
 "metadata": {
  "kernelspec": {
   "display_name": "Python 3 (ipykernel)",
   "language": "python",
   "name": "python3"
  },
  "language_info": {
   "codemirror_mode": {
    "name": "ipython",
    "version": 3
   },
   "file_extension": ".py",
   "mimetype": "text/x-python",
   "name": "python",
   "nbconvert_exporter": "python",
   "pygments_lexer": "ipython3",
   "version": "3.11.5"
  }
 },
 "nbformat": 4,
 "nbformat_minor": 5
}
